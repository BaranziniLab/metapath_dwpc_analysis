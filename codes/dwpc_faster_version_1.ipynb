{
 "cells": [
  {
   "cell_type": "code",
   "execution_count": 1,
   "id": "a61ab8b5",
   "metadata": {},
   "outputs": [],
   "source": [
    "import pandas as pd\n",
    "import numpy as np\n",
    "import multiprocessing as mp\n",
    "import os\n",
    "from neo4j import GraphDatabase, basic_auth\n",
    "from tqdm import tqdm\n"
   ]
  },
  {
   "cell_type": "code",
   "execution_count": 2,
   "id": "0b28ffef",
   "metadata": {},
   "outputs": [],
   "source": [
    "SPOKE_USER = \"neo4j\"\n",
    "SPOKE_PASSWORD = \"SPOKEdev\"\n",
    "URI = \"bolt://spokedev.cgl.ucsf.edu/:7687\"\n"
   ]
  },
  {
   "cell_type": "code",
   "execution_count": 219,
   "id": "942e800a",
   "metadata": {},
   "outputs": [],
   "source": [
    "def get_metapath_count(source_node, target_node, metapath_data):\n",
    "    nhop = metapath_data['nhops']\n",
    "    column_names = [f\"col_{i}\" for i in range(1, nhop+1)]\n",
    "    place_holder_values = (source_node,) + tuple(metapath_data[col] for col in column_names) + (target_node,)    \n",
    "    cypher = 'MATCH path=(o:Organism{name:\"%s\"})-[:%s]->(n1)'\n",
    "    for i in range(nhop-2):\n",
    "        cypher += '-[:%s]-(n{})'.format(i+2)\n",
    "    cypher += '-[:%s]-(c:Compound{identifier:\"%s\"}) RETURN path'\n",
    "    cypher = cypher%(place_holder_values)\n",
    "    auth = basic_auth(SPOKE_USER, SPOKE_PASSWORD)\n",
    "    sdb = GraphDatabase.driver(URI, auth=auth)\n",
    "    with sdb.session() as session:\n",
    "        with session.begin_transaction() as tx:\n",
    "            result = tx.run(cypher)\n",
    "            metapath_count = []\n",
    "            for row in result:\n",
    "                metapath_count.append(row['path'])\n",
    "    sdb.close()\n",
    "    return len(metapath_count)\n"
   ]
  },
  {
   "cell_type": "code",
   "execution_count": 3,
   "id": "96b036b5",
   "metadata": {},
   "outputs": [],
   "source": [
    "# selected_metapaths = [\n",
    "#     {\n",
    "#         'col_1' : 'ENCODES_OeP',\n",
    "#         'col_2' : 'HAS_PhEC',\n",
    "#         'col_3' : 'CATALYZES_ECcR',\n",
    "#         'col_4' : 'PRODUCES_RpC'\n",
    "#     },\n",
    "#     {\n",
    "#         'col_1' : 'ENCODES_OeP',\n",
    "#         'col_2' : 'HAS_PhEC',\n",
    "#         'col_3' : 'CATALYZES_ECcR',\n",
    "#         'col_4' : 'CONSUMES_RcC'\n",
    "#     },\n",
    "#     {\n",
    "#         'col_1' : 'ENCODES_OeP',\n",
    "#         'col_2' : 'ENCODES_PGeP',\n",
    "#         'col_3' : 'ENCODES_PGeP',\n",
    "#         'col_4' : 'BINDS_CbP'\n",
    "#     },\n",
    "#     {\n",
    "#         'col_1' : 'ENCODES_OeP',\n",
    "#         'col_2' : 'INTERACTS_PiP',\n",
    "#         'col_3' : 'BINDS_CbP'\n",
    "#     },\n",
    "#     {\n",
    "#         'col_1' : 'ENCODES_OeP',\n",
    "#         'col_2' : 'INTERACTS_PiP',\n",
    "#         'col_3' : 'HAS_PhEC',\n",
    "#         'col_4' : 'CATALYZES_ECcR',\n",
    "#         'col_5' : 'PRODUCES_RpC'\n",
    "#     },\n",
    "#     {\n",
    "#         'col_1' : 'ENCODES_OeP',\n",
    "#         'col_2' : 'INTERACTS_PiP',\n",
    "#         'col_3' : 'HAS_PhEC',\n",
    "#         'col_4' : 'CATALYZES_ECcR',\n",
    "#         'col_5' : 'CONSUMES_RcC'\n",
    "#     },\n",
    "#     {\n",
    "#         'col_1' : 'ENCODES_OeP',\n",
    "#         'col_2' : 'PARTOF_PDpP',\n",
    "#         'col_3' : 'BINDS_CbPD'\n",
    "#     },\n",
    "#     {\n",
    "#         'col_1' : 'ENCODES_OeP',\n",
    "#         'col_2' : 'BINDS_CbP'\n",
    "#     }\n",
    "# ]\n",
    "\n",
    "# org_cmp_metapath = pd.DataFrame(selected_metapaths)\n",
    "# org_cmp_metapath.loc[:, \"nhops\"] = org_cmp_metapath.count(axis=1)"
   ]
  },
  {
   "cell_type": "code",
   "execution_count": 249,
   "id": "49b24dc7",
   "metadata": {},
   "outputs": [],
   "source": [
    "\n",
    "cmp_df = pd.read_csv(os.path.join(os.path.expanduser('~'), 'UCSF/bcmm_project/bcmm_data/mappings/bcmm_compounds_combined_refined.csv'))\n",
    "org_df = pd.read_csv(os.path.join(os.path.expanduser('~'), 'UCSF/bcmm_project/bcmm_data/mappings/spoke_bacteria_species.tsv'), sep='\\t')\n",
    "microbe_from_mimedb_df = pd.read_csv(os.path.join(os.path.expanduser('~'), 'UCSF/bcmm_project/bcmm_data/mimedb_microbes_v1.csv'))\n"
   ]
  },
  {
   "cell_type": "code",
   "execution_count": 190,
   "id": "c20f7689",
   "metadata": {},
   "outputs": [
    {
     "name": "stdout",
     "output_type": "stream",
     "text": [
      "CPU times: user 79.5 ms, sys: 11.9 ms, total: 91.4 ms\n",
      "Wall time: 388 ms\n"
     ]
    }
   ],
   "source": [
    "%%time\n",
    "\n",
    "# Compound-Reaction edges\n",
    "\n",
    "query = '''\n",
    "    MATCH(r:Reaction)-[r1]->(c:Compound)\n",
    "    WHERE TYPE(r1) IN ['CONSUMES_RcC', 'PRODUCES_RpC']\n",
    "    AND c.identifier IN {}\n",
    "    RETURN r.identifier AS r_id, TYPE(r1) as rel_type, c.identifier AS c_id\n",
    "'''.format(list(cmp_df.spoke_identifier))\n",
    "\n",
    "auth = basic_auth(SPOKE_USER, SPOKE_PASSWORD)\n",
    "sdb = GraphDatabase.driver(URI, auth=auth)\n",
    "with sdb.session() as session:\n",
    "    with session.begin_transaction() as tx:\n",
    "        result = tx.run(query)\n",
    "        rxn_cmp = []\n",
    "        for row in result:\n",
    "            rxn_cmp.append((row['r_id'], row['rel_type'], row['c_id']))\n",
    "sdb.close()\n",
    "rxn_cmp_df = pd.DataFrame(rxn_cmp, columns=['source', 'relation', 'target'])"
   ]
  },
  {
   "cell_type": "code",
   "execution_count": 58,
   "id": "040595e7",
   "metadata": {},
   "outputs": [
    {
     "name": "stdout",
     "output_type": "stream",
     "text": [
      "CPU times: user 50.4 ms, sys: 16.4 ms, total: 66.7 ms\n",
      "Wall time: 387 ms\n"
     ]
    }
   ],
   "source": [
    "%%time\n",
    "\n",
    "query = '''\n",
    "    MATCH(e:EC)-[r1:CATALYZES_ECcR]->(r:Reaction)\n",
    "    WHERE r.identifier IN {}\n",
    "    RETURN e.identifier AS e_id, TYPE(r1) AS rel_type, r.identifier AS r_id\n",
    "'''.format(list(rxn_cmp_df.source))\n",
    "\n",
    "auth = basic_auth(SPOKE_USER, SPOKE_PASSWORD)\n",
    "sdb = GraphDatabase.driver(URI, auth=auth)\n",
    "with sdb.session() as session:\n",
    "    with session.begin_transaction() as tx:\n",
    "        result = tx.run(query)\n",
    "        ec_rxn = []\n",
    "        for row in result:\n",
    "            ec_rxn.append((row['e_id'], row['rel_type'], row['r_id']))\n",
    "sdb.close()\n",
    "ec_rxn_df = pd.DataFrame(ec_rxn, columns=['source', 'relation', 'target'])\n"
   ]
  },
  {
   "cell_type": "code",
   "execution_count": 60,
   "id": "dd7b8e2a",
   "metadata": {},
   "outputs": [
    {
     "name": "stdout",
     "output_type": "stream",
     "text": [
      "CPU times: user 4.37 s, sys: 536 ms, total: 4.91 s\n",
      "Wall time: 12.1 s\n"
     ]
    }
   ],
   "source": [
    "%%time\n",
    "\n",
    "# Protein-EC\n",
    "\n",
    "query = '''\n",
    "    MATCH(p:Protein)-[r1:HAS_PhEC]->(e:EC)\n",
    "    WHERE e.identifier IN {}\n",
    "    RETURN p.identifier AS p_id, TYPE(r1) AS rel_type, e.identifier AS e_id\n",
    "'''.format(list(ec_rxn_df.source))\n",
    "\n",
    "auth = basic_auth(SPOKE_USER, SPOKE_PASSWORD)\n",
    "sdb = GraphDatabase.driver(URI, auth=auth)\n",
    "with sdb.session() as session:\n",
    "    with session.begin_transaction() as tx:\n",
    "        result = tx.run(query)\n",
    "        prot_ec = []\n",
    "        for row in result:\n",
    "            prot_ec.append((row['p_id'], row['rel_type'], row['e_id']))\n",
    "sdb.close()\n",
    "prot_ec_df = pd.DataFrame(prot_ec, columns=['source', 'relation', 'target'])\n"
   ]
  },
  {
   "cell_type": "code",
   "execution_count": 161,
   "id": "30d34960",
   "metadata": {},
   "outputs": [
    {
     "name": "stdout",
     "output_type": "stream",
     "text": [
      "CPU times: user 1min 59s, sys: 14.3 s, total: 2min 13s\n",
      "Wall time: 5min 15s\n"
     ]
    }
   ],
   "source": [
    "%%time\n",
    "\n",
    "# Protein-EC\n",
    "\n",
    "query = '''\n",
    "    MATCH(p:Protein)-[r1:HAS_PhEC]->(e:EC)\n",
    "    RETURN p.identifier AS p_id, TYPE(r1) AS rel_type, e.identifier AS e_id\n",
    "'''\n",
    "\n",
    "auth = basic_auth(SPOKE_USER, SPOKE_PASSWORD)\n",
    "sdb = GraphDatabase.driver(URI, auth=auth)\n",
    "with sdb.session() as session:\n",
    "    with session.begin_transaction() as tx:\n",
    "        result = tx.run(query)\n",
    "        prot_ec_total = []\n",
    "        for row in result:\n",
    "            prot_ec_total.append((row['p_id'], row['rel_type'], row['e_id']))\n",
    "sdb.close()\n",
    "prot_ec_total_df = pd.DataFrame(prot_ec_total, columns=['source', 'relation', 'target'])\n"
   ]
  },
  {
   "cell_type": "code",
   "execution_count": 167,
   "id": "ef0b2566",
   "metadata": {},
   "outputs": [
    {
     "name": "stdout",
     "output_type": "stream",
     "text": [
      "CPU times: user 440 ms, sys: 56.7 ms, total: 497 ms\n",
      "Wall time: 1.12 s\n"
     ]
    }
   ],
   "source": [
    "%%time\n",
    "\n",
    "# EC_Rxn\n",
    "\n",
    "query = '''\n",
    "    MATCH(e:EC)-[r1:CATALYZES_ECcR]->(r:Reaction)\n",
    "    RETURN e.identifier AS e_id, TYPE(r1) AS rel_type, r.identifier AS r_id\n",
    "'''\n",
    "\n",
    "auth = basic_auth(SPOKE_USER, SPOKE_PASSWORD)\n",
    "sdb = GraphDatabase.driver(URI, auth=auth)\n",
    "with sdb.session() as session:\n",
    "    with session.begin_transaction() as tx:\n",
    "        result = tx.run(query)\n",
    "        ec_rxn_total = []\n",
    "        for row in result:\n",
    "            ec_rxn_total.append((row['e_id'], row['rel_type'], row['r_id']))\n",
    "sdb.close()\n",
    "ec_rxn_total_df = pd.DataFrame(ec_rxn_total, columns=['source', 'relation', 'target'])\n"
   ]
  },
  {
   "cell_type": "code",
   "execution_count": 36,
   "id": "c6969c29",
   "metadata": {},
   "outputs": [
    {
     "name": "stdout",
     "output_type": "stream",
     "text": [
      "CPU times: user 19.8 ms, sys: 4.49 ms, total: 24.3 ms\n",
      "Wall time: 798 ms\n"
     ]
    }
   ],
   "source": [
    "%%time\n",
    "\n",
    "# Protein-Compound edges\n",
    "\n",
    "query = '''\n",
    "    MATCH(r:Protein)<-[r1:BINDS_CbP]-(c:Compound)\n",
    "    WHERE r.org_ncbi_id IN {} AND c.identifier IN {}\n",
    "    RETURN r.identifier AS r_id, TYPE(r1) as rel_type, c.identifier AS c_id\n",
    "'''.format(list(org_df.spoke_id.astype('str')), list(cmp_df.spoke_identifier))\n",
    "\n",
    "auth = basic_auth(SPOKE_USER, SPOKE_PASSWORD)\n",
    "sdb = GraphDatabase.driver(URI, auth=auth)\n",
    "with sdb.session() as session:\n",
    "    with session.begin_transaction() as tx:\n",
    "        result = tx.run(query)\n",
    "        prot_cmp = []\n",
    "        for row in result:\n",
    "            prot_cmp.append((row['r_id'], row['rel_type'], row['c_id']))\n",
    "sdb.close()\n",
    "prot_cmp_df = pd.DataFrame(prot_cmp, columns=['source', 'relation', 'target'])\n",
    "prot_cmp_df = prot_cmp_df.rename(columns={'source': 'target', 'target':'source'})\n"
   ]
  },
  {
   "cell_type": "code",
   "execution_count": 40,
   "id": "1a6b79a3",
   "metadata": {},
   "outputs": [
    {
     "name": "stdout",
     "output_type": "stream",
     "text": [
      "CPU times: user 8min 46s, sys: 1min 5s, total: 9min 52s\n",
      "Wall time: 24min 59s\n"
     ]
    }
   ],
   "source": [
    "%%time\n",
    "\n",
    "# Organism-Protein\n",
    "\n",
    "query = '''\n",
    "    MATCH(r:Organism)-[r1:ENCODES_OeP]->(c:Protein)\n",
    "    WHERE r.identifier IN {}\n",
    "    RETURN r.identifier AS r_id, TYPE(r1) as rel_type, c.identifier AS c_id\n",
    "'''.format(list(org_df.spoke_id))\n",
    "\n",
    "auth = basic_auth(SPOKE_USER, SPOKE_PASSWORD)\n",
    "sdb = GraphDatabase.driver(URI, auth=auth)\n",
    "with sdb.session() as session:\n",
    "    with session.begin_transaction() as tx:\n",
    "        result = tx.run(query)\n",
    "        org_prot = []\n",
    "        for row in result:\n",
    "            org_prot.append((row['r_id'], row['rel_type'], row['c_id']))\n",
    "sdb.close()\n",
    "org_prot_df = pd.DataFrame(org_prot, columns=['source', 'relation', 'target'])\n"
   ]
  },
  {
   "cell_type": "code",
   "execution_count": 101,
   "id": "55344002",
   "metadata": {},
   "outputs": [
    {
     "name": "stdout",
     "output_type": "stream",
     "text": [
      "CPU times: user 49.8 s, sys: 5.98 s, total: 55.7 s\n",
      "Wall time: 2min 13s\n"
     ]
    }
   ],
   "source": [
    "%%time\n",
    "\n",
    "# Protein-Protein\n",
    "\n",
    "query = '''\n",
    "    MATCH(p1:Protein)-[r1:INTERACTS_PiP]->(p2:Protein)\n",
    "    RETURN p1.identifier AS p1_id, TYPE(r1) as rel_type, p2.identifier AS p2_id\n",
    "'''\n",
    "\n",
    "auth = basic_auth(SPOKE_USER, SPOKE_PASSWORD)\n",
    "sdb = GraphDatabase.driver(URI, auth=auth)\n",
    "with sdb.session() as session:\n",
    "    with session.begin_transaction() as tx:\n",
    "        result = tx.run(query)\n",
    "        prot_prot = []\n",
    "        for row in result:\n",
    "            prot_prot.append((row['p1_id'], row['rel_type'], row['p2_id']))\n",
    "sdb.close()\n",
    "prot_prot_df = pd.DataFrame(prot_prot, columns=['source', 'relation', 'target'])\n"
   ]
  },
  {
   "cell_type": "code",
   "execution_count": 92,
   "id": "6b387fc5",
   "metadata": {},
   "outputs": [
    {
     "name": "stdout",
     "output_type": "stream",
     "text": [
      "CPU times: user 80 ms, sys: 17.2 ms, total: 97.2 ms\n",
      "Wall time: 919 ms\n"
     ]
    }
   ],
   "source": [
    "%%time\n",
    "\n",
    "# Organism-Organism\n",
    "\n",
    "query = '''\n",
    "    MATCH(r:Organism)<-[r1:ISA_OiO]-(c:Organism)\n",
    "    WHERE r.identifier IN {}\n",
    "    RETURN r.identifier AS r_id, TYPE(r1) as rel_type, c.identifier AS c_id\n",
    "'''.format(list(org_df.spoke_id))\n",
    "\n",
    "auth = basic_auth(SPOKE_USER, SPOKE_PASSWORD)\n",
    "sdb = GraphDatabase.driver(URI, auth=auth)\n",
    "with sdb.session() as session:\n",
    "    with session.begin_transaction() as tx:\n",
    "        result = tx.run(query)\n",
    "        org_org = []\n",
    "        for row in result:\n",
    "            org_org.append((row['r_id'], row['rel_type'], row['c_id']))\n",
    "sdb.close()\n",
    "org_org_df = pd.DataFrame(org_org, columns=['source', 'relation', 'target'])\n"
   ]
  },
  {
   "cell_type": "code",
   "execution_count": 55,
   "id": "1ef97c4d",
   "metadata": {},
   "outputs": [
    {
     "name": "stdout",
     "output_type": "stream",
     "text": [
      "CPU times: user 13.4 s, sys: 2.6 s, total: 16 s\n",
      "Wall time: 16.7 s\n"
     ]
    }
   ],
   "source": [
    "%%time\n",
    "\n",
    "# Metapath : ENCODES_OeP -> BINDS_CbP\n",
    "\n",
    "org_prot_cmp_df = pd.merge(org_prot_df, prot_cmp_df, on='target')"
   ]
  },
  {
   "cell_type": "code",
   "execution_count": 333,
   "id": "f81544b4",
   "metadata": {},
   "outputs": [
    {
     "name": "stdout",
     "output_type": "stream",
     "text": [
      "CPU times: user 13.5 s, sys: 2.57 s, total: 16.1 s\n",
      "Wall time: 16.6 s\n"
     ]
    },
    {
     "name": "stderr",
     "output_type": "stream",
     "text": [
      "<timed exec>:7: FutureWarning: Passing 'suffixes' which cause duplicate columns {'relation_x', 'target_x'} in the result is deprecated and will raise a MergeError in a future version.\n"
     ]
    }
   ],
   "source": [
    "%%time\n",
    "\n",
    "# Metapath : ENCODES_OeP -> HAS_PhEC -> CATALYZES_ECcR ->CONSUMES/PRODUCES_Rc/pC\n",
    "\n",
    "org_prot_ec_df = pd.merge(org_prot_df, prot_ec_df, left_on='target', right_on='source')\n",
    "org_prot_ec_df.drop('source_y', axis=1, inplace=True)\n",
    "org_prot_ec_rxn_df = pd.merge(org_prot_ec_df, ec_rxn_df, left_on='target_y', right_on='source')\n",
    "org_prot_ec_rxn_df.drop('source', axis=1, inplace=True)\n",
    "org_prot_ec_rxn_cmp_df = pd.merge(org_prot_ec_rxn_df, rxn_cmp_df, left_on='target', right_on='source')\n",
    "org_prot_ec_rxn_cmp_df.drop('source', axis=1, inplace=True)\n",
    "org_prot_ec_rxn_cmp_df.columns=['source_x', 'relation_x', 'target_x', 'relation_y', 'target_y', 'relation_z', 'target_z', 'relation_z2', 'target_z2']\n",
    "\n",
    "org_prot_ec_rxn_cmp_df_consumes = org_prot_ec_rxn_cmp_df[org_prot_ec_rxn_cmp_df.relation_z2 == 'CONSUMES_RcC']\n",
    "org_prot_ec_rxn_cmp_df_produces = org_prot_ec_rxn_cmp_df[org_prot_ec_rxn_cmp_df.relation_z2 == 'PRODUCES_RpC']\n",
    "\n"
   ]
  },
  {
   "cell_type": "code",
   "execution_count": 194,
   "id": "ff34e07d",
   "metadata": {},
   "outputs": [
    {
     "name": "stdout",
     "output_type": "stream",
     "text": [
      "CPU times: user 33.7 s, sys: 11.6 s, total: 45.3 s\n",
      "Wall time: 48 s\n"
     ]
    },
    {
     "name": "stderr",
     "output_type": "stream",
     "text": [
      "<timed exec>:12: FutureWarning: Passing 'suffixes' which cause duplicate columns {'relation_x', 'source_x', 'target_x'} in the result is deprecated and will raise a MergeError in a future version.\n"
     ]
    }
   ],
   "source": [
    "%%time\n",
    "\n",
    "# Metapath : ENCODES_OeP -> INTERACTS_PiP -> HAS_PhEC -> CATALYZES_ECcR ->CONSUMES/PRODUCES_Rc/pC\n",
    "\n",
    "\n",
    "org_prot_prot_df_1 = pd.merge(org_prot_df, prot_prot_df, left_on='target', right_on='source')\n",
    "org_prot_prot_df_1.drop('source_y', axis=1, inplace=True)\n",
    "org_prot_prot_df_2 = pd.merge(org_prot_df, prot_prot_df, left_on='target', right_on='target')\n",
    "org_prot_prot_df_2 = org_prot_prot_df_2[['source_x', 'relation_x', 'target', 'relation_y', 'source_y']]\n",
    "org_prot_prot_df_2 = org_prot_prot_df_2.rename(columns={'target':'target_x', 'source_y':'target_y'})\n",
    "org_prot_prot_df = pd.concat([org_prot_prot_df_1, org_prot_prot_df_2], ignore_index=True)\n",
    "\n",
    "org_prot_prot_ec_df = pd.merge(org_prot_prot_df, prot_ec_total_df, left_on='target_y', right_on='source')\n",
    "org_prot_prot_ec_rxn_df = pd.merge(org_prot_prot_ec_df, ec_rxn_total_df, left_on='target', right_on='source')\n",
    "org_prot_prot_ec_rxn_df.columns = ['source_x', 'relation_x', 'target_x', 'relation_y', 'target_y', 'target_yy', 'relation_z', 'target_z', 'target_zz', 'relation_z2', 'target_z2']\n",
    "org_prot_prot_ec_rxn_df.drop(['target_yy', 'target_zz'], axis=1, inplace=True)\n",
    "org_prot_prot_ec_rxn_cmp_df = pd.merge(org_prot_prot_ec_rxn_df, rxn_cmp_df, left_on='target_z2', right_on='source')\n",
    "org_prot_prot_ec_rxn_cmp_df.drop('source', axis=1, inplace=True)\n",
    "org_prot_prot_ec_rxn_cmp_df = org_prot_prot_ec_rxn_cmp_df.rename(columns={'relation':'relation_z3', 'target':'target_z3'})\n",
    "\n",
    "org_prot_prot_ec_rxn_cmp_df_consumes = org_prot_prot_ec_rxn_cmp_df[org_prot_prot_ec_rxn_cmp_df.relation_z3=='CONSUMES_RcC']\n",
    "org_prot_prot_ec_rxn_cmp_df_produces = org_prot_prot_ec_rxn_cmp_df[org_prot_prot_ec_rxn_cmp_df.relation_z3=='PRODUCES_RpC']\n"
   ]
  },
  {
   "cell_type": "code",
   "execution_count": 495,
   "id": "ceecb880",
   "metadata": {},
   "outputs": [],
   "source": [
    "final_compounds = list(set(list(org_prot_cmp_df.source_y.unique()) + list(org_prot_ec_rxn_cmp_df.target_z2.unique()) + list(org_prot_prot_ec_rxn_cmp_df.target_z3.unique())))\n",
    "cmp_df_selected = cmp_df[cmp_df.spoke_identifier.isin(final_compounds)]\n",
    "\n",
    "final_org = list(set(list(org_prot_cmp_df.source_x.unique()) + list(org_prot_ec_rxn_cmp_df.source_x.unique()) + list(org_prot_prot_ec_rxn_cmp_df.source_x.unique())))\n",
    "org_df_selected = org_df[org_df.spoke_id.isin(final_org)]\n",
    "# org_df_selected = org_df_selected[org_df_selected.spoke_id.isin(microbe_from_mimedb_df.ncbi_tax_id)]\n"
   ]
  },
  {
   "cell_type": "code",
   "execution_count": 335,
   "id": "1611b623",
   "metadata": {},
   "outputs": [],
   "source": [
    "selected_metapaths = [\n",
    "    {\n",
    "        'col_1' : 'ENCODES_OeP',\n",
    "        'col_2' : 'BINDS_CbP',\n",
    "    },\n",
    "    {\n",
    "        'col_1' : 'ENCODES_OeP',\n",
    "        'col_2' : 'HAS_PhEC',\n",
    "        'col_3' : 'CATALYZES_ECcR',\n",
    "        'col_4' : 'CONSUMES_RcC'\n",
    "    },\n",
    "    {\n",
    "        'col_1' : 'ENCODES_OeP',\n",
    "        'col_2' : 'HAS_PhEC',\n",
    "        'col_3' : 'CATALYZES_ECcR',\n",
    "        'col_4' : 'PRODUCES_RpC'\n",
    "    },\n",
    "    {\n",
    "        'col_1' : 'ENCODES_OeP',\n",
    "        'col_2' : 'INTERACTS_PiP',\n",
    "        'col_3' : 'HAS_PhEC',\n",
    "        'col_4' : 'CATALYZES_ECcR',\n",
    "        'col_5' : 'CONSUMES_RcC'\n",
    "    },\n",
    "    {\n",
    "        'col_1' : 'ENCODES_OeP',\n",
    "        'col_2' : 'INTERACTS_PiP',\n",
    "        'col_3' : 'HAS_PhEC',\n",
    "        'col_4' : 'CATALYZES_ECcR',\n",
    "        'col_5' : 'PRODUCES_RpC'\n",
    "    }\n",
    "]\n",
    "\n",
    "org_cmp_metapath = pd.DataFrame(selected_metapaths)\n",
    "org_cmp_metapath.loc[:, \"nhops\"] = org_cmp_metapath.count(axis=1)\n",
    "\n",
    "metapath_data_dict = {\n",
    "    0 : org_prot_cmp_df,\n",
    "    1 : org_prot_ec_rxn_cmp_df_consumes,\n",
    "    2 : org_prot_ec_rxn_cmp_df_produces,\n",
    "    3 : org_prot_prot_ec_rxn_cmp_df_consumes,\n",
    "    4 : org_prot_prot_ec_rxn_cmp_df_produces\n",
    "}\n",
    "metapath_node_sequence_dict = {\n",
    "    0 : ['Organism', 'Protein', 'Compound'],\n",
    "    1 : ['Organism', 'Protein', 'EC', 'Reaction', 'Compound'],\n",
    "    2 : ['Organism', 'Protein', 'EC', 'Reaction', 'Compound'],\n",
    "    3 : ['Organism', 'Protein', 'Protein', 'EC', 'Reaction', 'Compound'],\n",
    "    4 : ['Organism', 'Protein', 'Protein', 'EC', 'Reaction', 'Compound']\n",
    "}\n",
    "metapath_edge_sequence_dict = {\n",
    "    0 : ['ENCODES_OeP', 'BINDS_CbP'],\n",
    "    1 : ['Organism', 'Protein', 'EC', 'Reaction', 'Compound'],\n",
    "    2 : ['Organism', 'Protein', 'EC', 'Reaction', 'Compound'],\n",
    "    3 : ['Organism', 'Protein', 'Protein', 'EC', 'Reaction', 'Compound'],\n",
    "    4 : ['Organism', 'Protein', 'Protein', 'EC', 'Reaction', 'Compound']\n",
    "}\n",
    "\n",
    "# import joblib\n",
    "# joblib.dump(metapath_data_dict, os.path.join(os.path.expanduser('~'), 'UCSF/bcmm_project/bcmm_data/metapath_data_dict.joblib'))\n"
   ]
  },
  {
   "cell_type": "code",
   "execution_count": 370,
   "id": "b8ed1d6c",
   "metadata": {},
   "outputs": [
    {
     "name": "stdout",
     "output_type": "stream",
     "text": [
      "CPU times: user 7.3 s, sys: 953 ms, total: 8.25 s\n",
      "Wall time: 1min 13s\n"
     ]
    }
   ],
   "source": [
    "%%time\n",
    "\n",
    "# Compute edge-type specific node degree\n",
    "\n",
    "node_edgetype_specific_degree = []\n",
    "for i in range(len(metapath_data_dict)):\n",
    "    item = metapath_data_dict[i]\n",
    "    node_columns = [element for element in list(item.columns) if 'relation' not in element]\n",
    "    relation_columns = [element for element in list(item.columns) if 'relation' in element]\n",
    "    for index, relation in enumerate(relation_columns):\n",
    "        rel_type = item[relation].unique()[0]\n",
    "        rel_index_list = [index, index+1]\n",
    "        for rel_index in rel_index_list:\n",
    "            node_type = metapath_node_sequence_dict[i][rel_index]\n",
    "            node_column = node_columns[rel_index]\n",
    "            node_id_list = list(item[node_column].unique())            \n",
    "            degree_query = '''\n",
    "                MATCH(n1:{})-[r:{}]-(n2)\n",
    "                WHERE n1.identifier IN {}\n",
    "                RETURN n1.identifier AS n1_id, COUNT(r) AS degree\n",
    "            '''.format(node_type, rel_type, node_id_list)                    \n",
    "            auth = basic_auth(SPOKE_USER, SPOKE_PASSWORD)\n",
    "            sdb = GraphDatabase.driver(URI, auth=auth)\n",
    "            with sdb.session() as session:\n",
    "                with session.begin_transaction() as tx:\n",
    "                    result = tx.run(degree_query)\n",
    "                    node_degree = []\n",
    "                    for row in result:\n",
    "                        node_degree.append((row['n1_id'], rel_type, row['degree']))\n",
    "            sdb.close()\n",
    "            node_degree_df = pd.DataFrame(node_degree, columns=['node_id', 'relation_type', 'degree'])\n",
    "            node_edgetype_specific_degree.append(node_degree_df)\n",
    "\n",
    "node_edgetype_specific_degree = pd.concat(node_edgetype_specific_degree, ignore_index=True).drop_duplicates()\n"
   ]
  },
  {
   "cell_type": "code",
   "execution_count": 387,
   "id": "3a07c168",
   "metadata": {},
   "outputs": [
    {
     "data": {
      "text/html": [
       "<div>\n",
       "<style scoped>\n",
       "    .dataframe tbody tr th:only-of-type {\n",
       "        vertical-align: middle;\n",
       "    }\n",
       "\n",
       "    .dataframe tbody tr th {\n",
       "        vertical-align: top;\n",
       "    }\n",
       "\n",
       "    .dataframe thead th {\n",
       "        text-align: right;\n",
       "    }\n",
       "</style>\n",
       "<table border=\"1\" class=\"dataframe\">\n",
       "  <thead>\n",
       "    <tr style=\"text-align: right;\">\n",
       "      <th></th>\n",
       "      <th>node_id</th>\n",
       "      <th>relation_type</th>\n",
       "      <th>degree</th>\n",
       "      <th>damped_degree</th>\n",
       "    </tr>\n",
       "  </thead>\n",
       "  <tbody>\n",
       "    <tr>\n",
       "      <th>0</th>\n",
       "      <td>1766</td>\n",
       "      <td>ENCODES_OeP</td>\n",
       "      <td>27249</td>\n",
       "      <td>0.016821</td>\n",
       "    </tr>\n",
       "    <tr>\n",
       "      <th>1</th>\n",
       "      <td>53502</td>\n",
       "      <td>ENCODES_OeP</td>\n",
       "      <td>7</td>\n",
       "      <td>0.459157</td>\n",
       "    </tr>\n",
       "    <tr>\n",
       "      <th>2</th>\n",
       "      <td>436114</td>\n",
       "      <td>ENCODES_OeP</td>\n",
       "      <td>1712</td>\n",
       "      <td>0.050886</td>\n",
       "    </tr>\n",
       "    <tr>\n",
       "      <th>3</th>\n",
       "      <td>B2V8E3</td>\n",
       "      <td>ENCODES_OeP</td>\n",
       "      <td>1</td>\n",
       "      <td>1.000000</td>\n",
       "    </tr>\n",
       "    <tr>\n",
       "      <th>4</th>\n",
       "      <td>O52691</td>\n",
       "      <td>ENCODES_OeP</td>\n",
       "      <td>1</td>\n",
       "      <td>1.000000</td>\n",
       "    </tr>\n",
       "    <tr>\n",
       "      <th>...</th>\n",
       "      <td>...</td>\n",
       "      <td>...</td>\n",
       "      <td>...</td>\n",
       "      <td>...</td>\n",
       "    </tr>\n",
       "    <tr>\n",
       "      <th>327018</th>\n",
       "      <td>inchikey:IAKHMKGGTNLKSZ-INIZCTEOSA-N</td>\n",
       "      <td>PRODUCES_RpC</td>\n",
       "      <td>1</td>\n",
       "      <td>1.000000</td>\n",
       "    </tr>\n",
       "    <tr>\n",
       "      <th>327019</th>\n",
       "      <td>inchikey:OEYIOHPDSNJKLS-UHFFFAOYSA-N</td>\n",
       "      <td>PRODUCES_RpC</td>\n",
       "      <td>27</td>\n",
       "      <td>0.267581</td>\n",
       "    </tr>\n",
       "    <tr>\n",
       "      <th>327020</th>\n",
       "      <td>inchikey:QIVBCDIJIAJPQS-VIFPVBQESA-N</td>\n",
       "      <td>PRODUCES_RpC</td>\n",
       "      <td>11</td>\n",
       "      <td>0.383215</td>\n",
       "    </tr>\n",
       "    <tr>\n",
       "      <th>327021</th>\n",
       "      <td>inchikey:UEDUENGHJMELGK-HYDKPPNVSA-N</td>\n",
       "      <td>PRODUCES_RpC</td>\n",
       "      <td>2</td>\n",
       "      <td>0.757858</td>\n",
       "    </tr>\n",
       "    <tr>\n",
       "      <th>327022</th>\n",
       "      <td>inchikey:ZQSIJRDFPHDXIC-UHFFFAOYSA-N</td>\n",
       "      <td>PRODUCES_RpC</td>\n",
       "      <td>6</td>\n",
       "      <td>0.488359</td>\n",
       "    </tr>\n",
       "  </tbody>\n",
       "</table>\n",
       "<p>297303 rows × 4 columns</p>\n",
       "</div>"
      ],
      "text/plain": [
       "                                     node_id relation_type  degree  \\\n",
       "0                                       1766   ENCODES_OeP   27249   \n",
       "1                                      53502   ENCODES_OeP       7   \n",
       "2                                     436114   ENCODES_OeP    1712   \n",
       "3                                     B2V8E3   ENCODES_OeP       1   \n",
       "4                                     O52691   ENCODES_OeP       1   \n",
       "...                                      ...           ...     ...   \n",
       "327018  inchikey:IAKHMKGGTNLKSZ-INIZCTEOSA-N  PRODUCES_RpC       1   \n",
       "327019  inchikey:OEYIOHPDSNJKLS-UHFFFAOYSA-N  PRODUCES_RpC      27   \n",
       "327020  inchikey:QIVBCDIJIAJPQS-VIFPVBQESA-N  PRODUCES_RpC      11   \n",
       "327021  inchikey:UEDUENGHJMELGK-HYDKPPNVSA-N  PRODUCES_RpC       2   \n",
       "327022  inchikey:ZQSIJRDFPHDXIC-UHFFFAOYSA-N  PRODUCES_RpC       6   \n",
       "\n",
       "        damped_degree  \n",
       "0            0.016821  \n",
       "1            0.459157  \n",
       "2            0.050886  \n",
       "3            1.000000  \n",
       "4            1.000000  \n",
       "...               ...  \n",
       "327018       1.000000  \n",
       "327019       0.267581  \n",
       "327020       0.383215  \n",
       "327021       0.757858  \n",
       "327022       0.488359  \n",
       "\n",
       "[297303 rows x 4 columns]"
      ]
     },
     "execution_count": 387,
     "metadata": {},
     "output_type": "execute_result"
    }
   ],
   "source": [
    "# node_edgetype_specific_degree.to_csv(os.path.join(os.path.expanduser('~'), 'UCSF/bcmm_project/bcmm_data/node_edgetype_specific_degree.csv'))\n",
    "\n",
    "# Compute damped degree\n",
    "DAMPING_FACTOR = -0.4\n",
    "node_edgetype_specific_degree.loc[:,'damped_degree'] = node_edgetype_specific_degree.degree**DAMPING_FACTOR\n",
    "node_edgetype_specific_degree"
   ]
  },
  {
   "cell_type": "code",
   "execution_count": 414,
   "id": "3c39962c",
   "metadata": {
    "collapsed": true
   },
   "outputs": [
    {
     "name": "stderr",
     "output_type": "stream",
     "text": [
      "<timed exec>:9: FutureWarning: Passing 'suffixes' which cause duplicate columns {'damped_degree_x'} in the result is deprecated and will raise a MergeError in a future version.\n",
      "<timed exec>:9: FutureWarning: Passing 'suffixes' which cause duplicate columns {'damped_degree_x'} in the result is deprecated and will raise a MergeError in a future version.\n",
      "<timed exec>:9: FutureWarning: Passing 'suffixes' which cause duplicate columns {'damped_degree_x'} in the result is deprecated and will raise a MergeError in a future version.\n",
      "<timed exec>:9: FutureWarning: Passing 'suffixes' which cause duplicate columns {'damped_degree_x'} in the result is deprecated and will raise a MergeError in a future version.\n",
      "<timed exec>:9: FutureWarning: Passing 'suffixes' which cause duplicate columns {'damped_degree_x'} in the result is deprecated and will raise a MergeError in a future version.\n",
      "<timed exec>:9: FutureWarning: Passing 'suffixes' which cause duplicate columns {'damped_degree_x'} in the result is deprecated and will raise a MergeError in a future version.\n",
      "<timed exec>:9: FutureWarning: Passing 'suffixes' which cause duplicate columns {'damped_degree_x'} in the result is deprecated and will raise a MergeError in a future version.\n",
      "<timed exec>:9: FutureWarning: Passing 'suffixes' which cause duplicate columns {'damped_degree_x'} in the result is deprecated and will raise a MergeError in a future version.\n",
      "<timed exec>:9: FutureWarning: Passing 'suffixes' which cause duplicate columns {'damped_degree_x'} in the result is deprecated and will raise a MergeError in a future version.\n",
      "<timed exec>:9: FutureWarning: Passing 'suffixes' which cause duplicate columns {'damped_degree_x'} in the result is deprecated and will raise a MergeError in a future version.\n",
      "<timed exec>:9: FutureWarning: Passing 'suffixes' which cause duplicate columns {'damped_degree_x'} in the result is deprecated and will raise a MergeError in a future version.\n",
      "<timed exec>:9: FutureWarning: Passing 'suffixes' which cause duplicate columns {'damped_degree_x'} in the result is deprecated and will raise a MergeError in a future version.\n",
      "<timed exec>:9: FutureWarning: Passing 'suffixes' which cause duplicate columns {'damped_degree_x'} in the result is deprecated and will raise a MergeError in a future version.\n",
      "<timed exec>:9: FutureWarning: Passing 'suffixes' which cause duplicate columns {'damped_degree_x'} in the result is deprecated and will raise a MergeError in a future version.\n",
      "<timed exec>:9: FutureWarning: Passing 'suffixes' which cause duplicate columns {'damped_degree_x'} in the result is deprecated and will raise a MergeError in a future version.\n"
     ]
    },
    {
     "name": "stdout",
     "output_type": "stream",
     "text": [
      "CPU times: user 3.61 s, sys: 536 ms, total: 4.15 s\n",
      "Wall time: 4.24 s\n"
     ]
    }
   ],
   "source": [
    "%%time\n",
    "\n",
    "# Compute PDP\n",
    "\n",
    "metapath_data_dict_with_degree = {}\n",
    "for i in range(len(metapath_data_dict)):\n",
    "    item = metapath_data_dict[i]\n",
    "    node_columns = [element for element in list(item.columns) if 'relation' not in element]\n",
    "    relation_columns = [element for element in list(item.columns) if 'relation' in element]\n",
    "    df1 = item\n",
    "    for rel_index, relation_column in enumerate(relation_columns):\n",
    "        df1 = pd.merge(df1, node_edgetype_specific_degree, left_on=[node_columns[rel_index], relation_column] , right_on=['node_id','relation_type']).drop(['node_id', 'relation_type', 'degree'], axis=1)\n",
    "        df1 = pd.merge(df1, node_edgetype_specific_degree, left_on=[node_columns[rel_index+1], relation_column] , right_on=['node_id','relation_type']).drop(['node_id', 'relation_type', 'degree'], axis=1)\n",
    "    damped_degree_columns = [element for element in list(df1.columns) if 'damped_degree' in element]\n",
    "    df1.loc[:,'pdp'] = df1[list(set(damped_degree_columns))].prod(axis=1)\n",
    "    metapath_data_dict_with_degree[i] = df1\n",
    "        \n",
    "\n"
   ]
  },
  {
   "cell_type": "code",
   "execution_count": 445,
   "id": "480de74a",
   "metadata": {},
   "outputs": [],
   "source": [
    "dwpc = []\n",
    "for i in range(len(metapath_data_dict)):\n",
    "    item = metapath_data_dict[i]\n",
    "    node_columns = [element for element in list(item.columns) if 'relation' not in element]\n",
    "    dwpc_df = metapath_data_dict_with_degree[i].groupby([node_columns[0], node_columns[-1]]).agg({'pdp': 'sum'}).reset_index()\n",
    "    dwpc_df.rename(columns={node_columns[0]:'source', node_columns[-1]:'target', 'pdp': 'dwpc'}, inplace=True)\n",
    "    dwpc.append(dwpc_df)\n",
    "    \n",
    "\n"
   ]
  },
  {
   "cell_type": "code",
   "execution_count": 520,
   "id": "0fd6139c",
   "metadata": {},
   "outputs": [],
   "source": [
    "org_df_selected_with_index = org_df_selected.reset_index().drop('index', axis=1).reset_index().rename(columns={'index':'org_index'})\n",
    "cmp_df_selected_with_index = cmp_df_selected.reset_index().drop('index', axis=1).reset_index().rename(columns={'index':'cmp_index'})\n",
    "\n"
   ]
  },
  {
   "cell_type": "code",
   "execution_count": 538,
   "id": "096e25f7",
   "metadata": {},
   "outputs": [],
   "source": [
    "dwpc_mat = np.zeros((org_df_selected.shape[0], cmp_df_selected.shape[0], len(metapath_data_dict)))\n",
    "for i in range(len(metapath_data_dict)):\n",
    "    dwpc_feature_df = dwpc[i]\n",
    "    dwpc_feature_df = pd.merge(dwpc_feature_df, org_df_selected_with_index, left_on='source', right_on='spoke_id').drop('source', axis=1)\n",
    "    dwpc_feature_df = pd.merge(dwpc_feature_df, cmp_df_selected_with_index, left_on='target', right_on='spoke_identifier').drop('target', axis=1)\n",
    "    dwpc_arr_ind = dwpc_feature_df[['org_index', 'cmp_index']].to_numpy()\n",
    "    dwpc_arr_ind = np.column_stack((dwpc_arr_ind, i*np.ones(dwpc_arr_ind.shape[0])))\n",
    "    dwpc_arr_ind = dwpc_arr_ind.astype(int)\n",
    "    dwpc_val = dwpc_feature_df['dwpc'].to_numpy()\n",
    "    dwpc_mat[dwpc_arr_ind[:, 0], dwpc_arr_ind[:, 1], dwpc_arr_ind[:, 2]] = dwpc_val\n"
   ]
  },
  {
   "cell_type": "code",
   "execution_count": 557,
   "id": "18f6e4cc",
   "metadata": {},
   "outputs": [
    {
     "data": {
      "text/plain": [
       "0.0011271774079332716"
      ]
     },
     "execution_count": 557,
     "metadata": {},
     "output_type": "execute_result"
    }
   ],
   "source": [
    "dwpc_mat_2d = np.max(dwpc_mat, axis=2)\n"
   ]
  },
  {
   "cell_type": "code",
   "execution_count": 588,
   "id": "7c5a720d",
   "metadata": {},
   "outputs": [],
   "source": [
    "# np.save(os.path.join(os.path.expanduser('~'), 'UCSF/bcmm_project/bcmm_data/dwpc_mat_3d.npy'), dwpc_mat, allow_pickle=False)\n",
    "# np.save(os.path.join(os.path.expanduser('~'), 'UCSF/bcmm_project/bcmm_data/dwpc_mat_2d.npy'), dwpc_mat_2d, allow_pickle=False)\n",
    "\n",
    "cmp_df_selected_with_index.to_csv(os.path.join(os.path.expanduser('~'), 'UCSF/bcmm_project/bcmm_data/cmp_df_selected_with_index.csv'))\n",
    "org_df_selected_with_index.to_csv(os.path.join(os.path.expanduser('~'), 'UCSF/bcmm_project/bcmm_data/org_df_selected_with_index.csv'))\n"
   ]
  },
  {
   "cell_type": "code",
   "execution_count": 559,
   "id": "fac6cae3",
   "metadata": {},
   "outputs": [
    {
     "name": "stdout",
     "output_type": "stream",
     "text": [
      "82.92777317063539\n"
     ]
    }
   ],
   "source": [
    "sparsity_percentage = (np.count_nonzero(dwpc_mat_2d == 0) / dwpc_mat_2d.size) * 100\n",
    "print(sparsity_percentage)"
   ]
  },
  {
   "cell_type": "code",
   "execution_count": 761,
   "id": "4556ef94",
   "metadata": {},
   "outputs": [
    {
     "data": {
      "text/html": [
       "<div>\n",
       "<style scoped>\n",
       "    .dataframe tbody tr th:only-of-type {\n",
       "        vertical-align: middle;\n",
       "    }\n",
       "\n",
       "    .dataframe tbody tr th {\n",
       "        vertical-align: top;\n",
       "    }\n",
       "\n",
       "    .dataframe thead th {\n",
       "        text-align: right;\n",
       "    }\n",
       "</style>\n",
       "<table border=\"1\" class=\"dataframe\">\n",
       "  <thead>\n",
       "    <tr style=\"text-align: right;\">\n",
       "      <th></th>\n",
       "      <th>org_index</th>\n",
       "      <th>spoke_id</th>\n",
       "      <th>spoke_name</th>\n",
       "      <th>dwpc</th>\n",
       "    </tr>\n",
       "  </thead>\n",
       "  <tbody>\n",
       "    <tr>\n",
       "      <th>865</th>\n",
       "      <td>865</td>\n",
       "      <td>29369</td>\n",
       "      <td>Clostridium sardiniense</td>\n",
       "      <td>0.125283</td>\n",
       "    </tr>\n",
       "    <tr>\n",
       "      <th>3642</th>\n",
       "      <td>3642</td>\n",
       "      <td>29347</td>\n",
       "      <td>[Clostridium] scindens</td>\n",
       "      <td>0.033690</td>\n",
       "    </tr>\n",
       "    <tr>\n",
       "      <th>887</th>\n",
       "      <td>887</td>\n",
       "      <td>74426</td>\n",
       "      <td>Collinsella aerofaciens</td>\n",
       "      <td>0.003949</td>\n",
       "    </tr>\n",
       "    <tr>\n",
       "      <th>0</th>\n",
       "      <td>0</td>\n",
       "      <td>1817405</td>\n",
       "      <td>Abyssicoccus albus</td>\n",
       "      <td>0.000000</td>\n",
       "    </tr>\n",
       "    <tr>\n",
       "      <th>2451</th>\n",
       "      <td>2451</td>\n",
       "      <td>484770</td>\n",
       "      <td>Pelosinus sp. UFO1</td>\n",
       "      <td>0.000000</td>\n",
       "    </tr>\n",
       "    <tr>\n",
       "      <th>...</th>\n",
       "      <td>...</td>\n",
       "      <td>...</td>\n",
       "      <td>...</td>\n",
       "      <td>...</td>\n",
       "    </tr>\n",
       "    <tr>\n",
       "      <th>1227</th>\n",
       "      <td>1227</td>\n",
       "      <td>1260</td>\n",
       "      <td>Finegoldia magna</td>\n",
       "      <td>0.000000</td>\n",
       "    </tr>\n",
       "    <tr>\n",
       "      <th>1228</th>\n",
       "      <td>1228</td>\n",
       "      <td>1752063</td>\n",
       "      <td>Fischerella sp. NIES-3754</td>\n",
       "      <td>0.000000</td>\n",
       "    </tr>\n",
       "    <tr>\n",
       "      <th>1229</th>\n",
       "      <td>1229</td>\n",
       "      <td>373891</td>\n",
       "      <td>Flammeovirga kamogawensis</td>\n",
       "      <td>0.000000</td>\n",
       "    </tr>\n",
       "    <tr>\n",
       "      <th>1230</th>\n",
       "      <td>1230</td>\n",
       "      <td>2494373</td>\n",
       "      <td>Flammeovirga pectinis</td>\n",
       "      <td>0.000000</td>\n",
       "    </tr>\n",
       "    <tr>\n",
       "      <th>3669</th>\n",
       "      <td>3669</td>\n",
       "      <td>1835721</td>\n",
       "      <td>secondary endosymbiont of Trabutina mannipara</td>\n",
       "      <td>0.000000</td>\n",
       "    </tr>\n",
       "  </tbody>\n",
       "</table>\n",
       "<p>3670 rows × 4 columns</p>\n",
       "</div>"
      ],
      "text/plain": [
       "      org_index  spoke_id                                     spoke_name  \\\n",
       "865         865     29369                        Clostridium sardiniense   \n",
       "3642       3642     29347                         [Clostridium] scindens   \n",
       "887         887     74426                        Collinsella aerofaciens   \n",
       "0             0   1817405                             Abyssicoccus albus   \n",
       "2451       2451    484770                             Pelosinus sp. UFO1   \n",
       "...         ...       ...                                            ...   \n",
       "1227       1227      1260                               Finegoldia magna   \n",
       "1228       1228   1752063                      Fischerella sp. NIES-3754   \n",
       "1229       1229    373891                      Flammeovirga kamogawensis   \n",
       "1230       1230   2494373                          Flammeovirga pectinis   \n",
       "3669       3669   1835721  secondary endosymbiont of Trabutina mannipara   \n",
       "\n",
       "          dwpc  \n",
       "865   0.125283  \n",
       "3642  0.033690  \n",
       "887   0.003949  \n",
       "0     0.000000  \n",
       "2451  0.000000  \n",
       "...        ...  \n",
       "1227  0.000000  \n",
       "1228  0.000000  \n",
       "1229  0.000000  \n",
       "1230  0.000000  \n",
       "3669  0.000000  \n",
       "\n",
       "[3670 rows x 4 columns]"
      ]
     },
     "execution_count": 761,
     "metadata": {},
     "output_type": "execute_result"
    }
   ],
   "source": [
    "cmp_name = 'ursodiol'\n",
    "column_ind = cmp_df_selected_with_index[cmp_df_selected_with_index.compound_name==cmp_name].cmp_index.values[0]\n",
    "cmp_df_selected_with_index_copy = org_df_selected_with_index.copy()\n",
    "cmp_df_selected_with_index_copy.loc[:,'dwpc'] = dwpc_mat_2d[:,column_ind]\n",
    "cmp_df_selected_with_index_copy.sort_values(by='dwpc', ascending=False)\n"
   ]
  },
  {
   "cell_type": "code",
   "execution_count": 725,
   "id": "48dbdbee",
   "metadata": {},
   "outputs": [],
   "source": [
    "# org_cmp_metapath.to_csv(os.path.join(os.path.expanduser('~'), 'UCSF/bcmm_project/bcmm_data/org_cmp_manually_selected_metapath.csv'), index=False, header=True)\n",
    "\n"
   ]
  },
  {
   "cell_type": "code",
   "execution_count": null,
   "id": "be523141",
   "metadata": {},
   "outputs": [],
   "source": []
  }
 ],
 "metadata": {
  "kernelspec": {
   "display_name": "Python 3 (ipykernel)",
   "language": "python",
   "name": "python3"
  },
  "language_info": {
   "codemirror_mode": {
    "name": "ipython",
    "version": 3
   },
   "file_extension": ".py",
   "mimetype": "text/x-python",
   "name": "python",
   "nbconvert_exporter": "python",
   "pygments_lexer": "ipython3",
   "version": "3.10.9"
  }
 },
 "nbformat": 4,
 "nbformat_minor": 5
}
